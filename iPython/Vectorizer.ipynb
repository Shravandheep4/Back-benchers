{
 "cells": [
  {
   "cell_type": "code",
   "execution_count": 1,
   "metadata": {},
   "outputs": [
    {
     "name": "stderr",
     "output_type": "stream",
     "text": [
      "D:\\Environment\\Conda\\lib\\site-packages\\gensim\\utils.py:1197: UserWarning: detected Windows; aliasing chunkize to chunkize_serial\n",
      "  warnings.warn(\"detected Windows; aliasing chunkize to chunkize_serial\")\n"
     ]
    }
   ],
   "source": [
    "#Basic dependencies\n",
    "import codecs, glob, os, re, multiprocessing\n",
    "import numpy as np\n",
    "import gensim.models.atmodel"
   ]
  },
  {
   "cell_type": "code",
   "execution_count": 2,
   "metadata": {},
   "outputs": [],
   "source": [
    "#External libraries\n",
    "import nltk                           #For generating corpus\n",
    "import gensim.models.word2vec as w2v  #To generate vectors from word embeddings\n",
    "import sklearn.manifold               #To reduce the dimensions \n",
    "import matplotlib.pyplot as plt       #For visual representation\n",
    "import pandas as pd                   #To manipulate data\n",
    "import seaborn as sns                 #To Plot graphs\n"
   ]
  },
  {
   "cell_type": "code",
   "execution_count": 4,
   "metadata": {},
   "outputs": [
    {
     "name": "stderr",
     "output_type": "stream",
     "text": [
      "[nltk_data] Downloading package punkt to\n",
      "[nltk_data]     C:\\Users\\shrav\\AppData\\Roaming\\nltk_data...\n",
      "[nltk_data]   Package punkt is already up-to-date!\n",
      "[nltk_data] Downloading package stopwords to\n",
      "[nltk_data]     C:\\Users\\shrav\\AppData\\Roaming\\nltk_data...\n",
      "[nltk_data]   Package stopwords is already up-to-date!\n",
      "[nltk_data] Downloading package genesis to\n",
      "[nltk_data]     C:\\Users\\shrav\\AppData\\Roaming\\nltk_data...\n",
      "[nltk_data]   Package genesis is already up-to-date!\n",
      "[nltk_data] Downloading package averaged_perceptron_tagger to\n",
      "[nltk_data]     C:\\Users\\shrav\\AppData\\Roaming\\nltk_data...\n",
      "[nltk_data]   Package averaged_perceptron_tagger is already up-to-\n",
      "[nltk_data]       date!\n"
     ]
    },
    {
     "data": {
      "text/plain": [
       "True"
      ]
     },
     "execution_count": 4,
     "metadata": {},
     "output_type": "execute_result"
    }
   ],
   "source": [
    "nltk.download(\"punkt\")      #pretrained tokenizer\n",
    "nltk.download(\"stopwords\")  #words that are insignificant for training the model\n",
    "nltk.download(\"genesis\")\n",
    "nltk.download(\"averaged_perceptron_tagger\")"
   ]
  },
  {
   "cell_type": "code",
   "execution_count": 13,
   "metadata": {},
   "outputs": [
    {
     "name": "stdout",
     "output_type": "stream",
     "text": [
      "Subject name: Machine Learning\n",
      "Reading 'Resources\\Machine Learning\\machinelearning.txt'\n"
     ]
    }
   ],
   "source": [
    "raw_corpus = u\"\"\n",
    "\n",
    "subjectname = input(\"Subject name: \")\n",
    "textfile = sorted(glob.glob(\"Resources\\\\\" + subjectname + \"\\\\\" + \"\\*.txt\"))\n",
    "\n",
    "for text in textfile:\n",
    "    print(f\"Reading '{text}'\")\n",
    "    \n",
    "    with codecs.open(text, \"r\", \"utf-8\") as file:\n",
    "        raw_corpus += file.read()\n"
   ]
  },
  {
   "cell_type": "markdown",
   "metadata": {},
   "source": []
  },
  {
   "cell_type": "code",
   "execution_count": 14,
   "metadata": {},
   "outputs": [],
   "source": [
    "tokenizer = nltk.data.load('tokenizers/punkt/english.pickle')\n",
    "raw_sentences = tokenizer.tokenize(raw_corpus)\n"
   ]
  },
  {
   "cell_type": "code",
   "execution_count": 15,
   "metadata": {},
   "outputs": [],
   "source": [
    "cachedStopWords =  nltk.corpus.stopwords.words(\"english\")"
   ]
  },
  {
   "cell_type": "code",
   "execution_count": 16,
   "metadata": {},
   "outputs": [],
   "source": [
    "def sentence_to_wordlist(raw):\n",
    "    clean = re.sub(\"[^a-zA-Z]\", \" \", raw)\n",
    "    words = clean.split()\n",
    "    stemmer = nltk.PorterStemmer()\n",
    "    \n",
    "    filtered_sentence = [w for w in words if not w in cachedStopWords]\n",
    "    return filtered_sentence"
   ]
  },
  {
   "cell_type": "code",
   "execution_count": 17,
   "metadata": {},
   "outputs": [
    {
     "name": "stdout",
     "output_type": "stream",
     "text": [
      "The book corpus contains 3,797 tokens\n"
     ]
    }
   ],
   "source": [
    "sentences = []\n",
    "\n",
    "for raw_sentence in raw_sentences:\n",
    "    if len(raw_sentence) > 0:\n",
    "        sentences.append(sentence_to_wordlist(raw_sentence))\n",
    "\n",
    "token_count = sum([len(sentence) for sentence in sentences])\n",
    "print(\"The book corpus contains {0:,} tokens\".format(token_count))\n"
   ]
  },
  {
   "cell_type": "code",
   "execution_count": 18,
   "metadata": {},
   "outputs": [],
   "source": [
    "# 3 main properties that vectors help us with\n",
    "# DISTANCE, SIMILARITY, RANKING\n",
    "num_features = 300\n",
    "min_word_count = 3\n",
    "num_workers = multiprocessing.cpu_count()\n",
    "context_size = 7\n",
    "downsampling = 1e-3\n",
    "seed = 1"
   ]
  },
  {
   "cell_type": "code",
   "execution_count": 19,
   "metadata": {},
   "outputs": [],
   "source": [
    "learningmodel = w2v.Word2Vec(\n",
    "    sg = 1,\n",
    "    seed = seed,\n",
    "    workers = num_workers,\n",
    "    size = num_features,\n",
    "    min_count = min_word_count,\n",
    "    window = context_size,\n",
    "    sample = downsampling\n",
    "    )\n",
    "\n",
    "learningmodel.build_vocab(sentences)"
   ]
  },
  {
   "cell_type": "code",
   "execution_count": 21,
   "metadata": {},
   "outputs": [
    {
     "name": "stdout",
     "output_type": "stream",
     "text": [
      "Vocabulary length:  318\n",
      "Subject : Myapp\n"
     ]
    }
   ],
   "source": [
    "print(\"Vocabulary length: \", len(learningmodel.wv.vocab))\n",
    "\n",
    "#Training our model\n",
    "learningmodel.train(sentences, total_examples = token_count, epochs= 25)\n",
    "\n",
    "filename = str(input(\"Subject : \"))\n",
    "\n",
    "if not os.path.exists(\"Training Data\\\\\" + filename):\n",
    "    location = \"Training Data\\\\\" + filename\n",
    "    os.makedirs(location)\n",
    "\n",
    "learningmodel.save(os.path.join(location, filename+\".w2v\"))\n",
    "\n"
   ]
  },
  {
   "cell_type": "code",
   "execution_count": 27,
   "metadata": {},
   "outputs": [
    {
     "data": {
      "text/plain": [
       "[('Intelligence', 0.9951659440994263),\n",
       " ('source', 0.9925799369812012),\n",
       " ('Machine', 0.9925317764282227),\n",
       " ('software', 0.991557776927948),\n",
       " ('open', 0.9913204312324524),\n",
       " ('Research', 0.9864009022712708),\n",
       " ('Google', 0.9616549611091614),\n",
       " ('nMachine', 0.9323292970657349),\n",
       " ('variety', 0.924755334854126),\n",
       " ('A', 0.917307436466217)]"
      ]
     },
     "execution_count": 27,
     "metadata": {},
     "output_type": "execute_result"
    }
   ],
   "source": [
    "learningmodel.wv.most_similar(positive=[\"Learning\"])\n"
   ]
  },
  {
   "cell_type": "code",
   "execution_count": null,
   "metadata": {},
   "outputs": [],
   "source": []
  }
 ],
 "metadata": {
  "kernelspec": {
   "display_name": "Python 3",
   "language": "python",
   "name": "python3"
  },
  "language_info": {
   "codemirror_mode": {
    "name": "ipython",
    "version": 3
   },
   "file_extension": ".py",
   "mimetype": "text/x-python",
   "name": "python",
   "nbconvert_exporter": "python",
   "pygments_lexer": "ipython3",
   "version": "3.6.8"
  }
 },
 "nbformat": 4,
 "nbformat_minor": 2
}
